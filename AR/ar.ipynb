{
 "cells": [
  {
   "cell_type": "code",
   "execution_count": 40,
   "id": "e06c3ec5",
   "metadata": {},
   "outputs": [],
   "source": [
    "import pandas as pd\n",
    "import numpy as np"
   ]
  },
  {
   "cell_type": "markdown",
   "id": "ec46162a",
   "metadata": {},
   "source": [
    "## Calculando manualmente el vector de coeficientes finales"
   ]
  },
  {
   "cell_type": "code",
   "execution_count": 62,
   "id": "8e2731b8",
   "metadata": {},
   "outputs": [
    {
     "data": {
      "text/plain": [
       "numpy.ndarray"
      ]
     },
     "execution_count": 62,
     "metadata": {},
     "output_type": "execute_result"
    }
   ],
   "source": [
    "serie = [5, 7, 6, 8, 10, 9, 12, 11]\n",
    "df = pd.DataFrame({'Y':serie})\n",
    "df['lag_0'] = 1\n",
    "type(df.values)"
   ]
  },
  {
   "cell_type": "code",
   "execution_count": 68,
   "id": "4d7fcd6a",
   "metadata": {},
   "outputs": [
    {
     "name": "stdout",
     "output_type": "stream",
     "text": [
      "Estadístico: -0.28330365673207797\n",
      "Valor p: 0.9278359723738464\n",
      "Usar la HO, la serie NO es estacionaria\n"
     ]
    }
   ],
   "source": [
    "# Verificar que la serie sea estacionaria          p = 0.05\n",
    "# HO: La serie NO es estacionaria (raiz unitaria)  p >= 0.05\n",
    "# H1: La serie SI es estacionaria                  p < 0.05\n",
    "from statsmodels.tsa.stattools import adfuller\n",
    "p = 0.05\n",
    "estacionario = adfuller(serie)\n",
    "print(f\"Estadístico: {estacionario[0]}\")\n",
    "print(f\"Valor p: {estacionario[1]}\")\n",
    "\n",
    "if estacionario[1] < p:\n",
    "    print(\"Rechazar H0, la serie SI es estacionaria\")\n",
    "else:\n",
    "    print(\"Usar la HO, la serie NO es estacionaria\")"
   ]
  },
  {
   "cell_type": "code",
   "execution_count": 63,
   "id": "c56b4bec",
   "metadata": {},
   "outputs": [
    {
     "data": {
      "text/plain": [
       "<Axes: >"
      ]
     },
     "execution_count": 63,
     "metadata": {},
     "output_type": "execute_result"
    },
    {
     "data": {
      "image/png": "[encoded data removed]",
      "text/plain": [
       "<Figure size 640x480 with 1 Axes>"
      ]
     },
     "metadata": {},
     "output_type": "display_data"
    }
   ],
   "source": [
    "df['Y'].plot()"
   ]
  },
  {
   "cell_type": "markdown",
   "id": "c4c2becb",
   "metadata": {},
   "source": [
    "### Suponiendo que la serie es estacionaria y que se llegó a que un valor de lag óptimo es 4 mediante una PACF\n",
    "\n",
    "El cálculo de los coeficientes finales ϕ se hace mediante la regresión múltiple: (X_T * X)**-1 (X_T * Y)\n"
   ]
  },
  {
   "cell_type": "code",
   "execution_count": 31,
   "id": "38ea66f1",
   "metadata": {},
   "outputs": [
    {
     "data": {
      "text/html": [
       "<div>\n",
       "<style scoped>\n",
       "    .dataframe tbody tr th:only-of-type {\n",
       "        vertical-align: middle;\n",
       "    }\n",
       "\n",
       "    .dataframe tbody tr th {\n",
       "        vertical-align: top;\n",
       "    }\n",
       "\n",
       "    .dataframe thead th {\n",
       "        text-align: right;\n",
       "    }\n",
       "</style>\n",
       "<table border=\"1\" class=\"dataframe\">\n",
       "  <thead>\n",
       "    <tr style=\"text-align: right;\">\n",
       "      <th></th>\n",
       "      <th>Y</th>\n",
       "      <th>lag_0</th>\n",
       "      <th>lag_1</th>\n",
       "      <th>lag_2</th>\n",
       "      <th>lag_3</th>\n",
       "      <th>lag_4</th>\n",
       "    </tr>\n",
       "  </thead>\n",
       "  <tbody>\n",
       "    <tr>\n",
       "      <th>0</th>\n",
       "      <td>5</td>\n",
       "      <td>1</td>\n",
       "      <td>NaN</td>\n",
       "      <td>NaN</td>\n",
       "      <td>NaN</td>\n",
       "      <td>NaN</td>\n",
       "    </tr>\n",
       "    <tr>\n",
       "      <th>1</th>\n",
       "      <td>7</td>\n",
       "      <td>1</td>\n",
       "      <td>5.0</td>\n",
       "      <td>NaN</td>\n",
       "      <td>NaN</td>\n",
       "      <td>NaN</td>\n",
       "    </tr>\n",
       "    <tr>\n",
       "      <th>2</th>\n",
       "      <td>6</td>\n",
       "      <td>1</td>\n",
       "      <td>7.0</td>\n",
       "      <td>5.0</td>\n",
       "      <td>NaN</td>\n",
       "      <td>NaN</td>\n",
       "    </tr>\n",
       "    <tr>\n",
       "      <th>3</th>\n",
       "      <td>8</td>\n",
       "      <td>1</td>\n",
       "      <td>6.0</td>\n",
       "      <td>7.0</td>\n",
       "      <td>5.0</td>\n",
       "      <td>NaN</td>\n",
       "    </tr>\n",
       "    <tr>\n",
       "      <th>4</th>\n",
       "      <td>10</td>\n",
       "      <td>1</td>\n",
       "      <td>8.0</td>\n",
       "      <td>6.0</td>\n",
       "      <td>7.0</td>\n",
       "      <td>5.0</td>\n",
       "    </tr>\n",
       "  </tbody>\n",
       "</table>\n",
       "</div>"
      ],
      "text/plain": [
       "    Y  lag_0  lag_1  lag_2  lag_3  lag_4\n",
       "0   5      1    NaN    NaN    NaN    NaN\n",
       "1   7      1    5.0    NaN    NaN    NaN\n",
       "2   6      1    7.0    5.0    NaN    NaN\n",
       "3   8      1    6.0    7.0    5.0    NaN\n",
       "4  10      1    8.0    6.0    7.0    5.0"
      ]
     },
     "execution_count": 31,
     "metadata": {},
     "output_type": "execute_result"
    }
   ],
   "source": [
    "# Dado que el valor de lag = 4, el traslape en la creación de la matriz X es:\n",
    "lag_val = 4+1\n",
    "\n",
    "for lag in range(1, lag_val):\n",
    "    df[f'lag_{lag}'] = df['Y'].shift(lag)\n",
    "\n",
    "df.head()"
   ]
  },
  {
   "cell_type": "code",
   "execution_count": 32,
   "id": "6d689777",
   "metadata": {},
   "outputs": [
    {
     "data": {
      "text/html": [
       "<div>\n",
       "<style scoped>\n",
       "    .dataframe tbody tr th:only-of-type {\n",
       "        vertical-align: middle;\n",
       "    }\n",
       "\n",
       "    .dataframe tbody tr th {\n",
       "        vertical-align: top;\n",
       "    }\n",
       "\n",
       "    .dataframe thead th {\n",
       "        text-align: right;\n",
       "    }\n",
       "</style>\n",
       "<table border=\"1\" class=\"dataframe\">\n",
       "  <thead>\n",
       "    <tr style=\"text-align: right;\">\n",
       "      <th></th>\n",
       "      <th>Y</th>\n",
       "      <th>lag_0</th>\n",
       "      <th>lag_1</th>\n",
       "      <th>lag_2</th>\n",
       "      <th>lag_3</th>\n",
       "      <th>lag_4</th>\n",
       "    </tr>\n",
       "  </thead>\n",
       "  <tbody>\n",
       "    <tr>\n",
       "      <th>4</th>\n",
       "      <td>10</td>\n",
       "      <td>1</td>\n",
       "      <td>8.0</td>\n",
       "      <td>6.0</td>\n",
       "      <td>7.0</td>\n",
       "      <td>5.0</td>\n",
       "    </tr>\n",
       "    <tr>\n",
       "      <th>5</th>\n",
       "      <td>9</td>\n",
       "      <td>1</td>\n",
       "      <td>10.0</td>\n",
       "      <td>8.0</td>\n",
       "      <td>6.0</td>\n",
       "      <td>7.0</td>\n",
       "    </tr>\n",
       "    <tr>\n",
       "      <th>6</th>\n",
       "      <td>12</td>\n",
       "      <td>1</td>\n",
       "      <td>9.0</td>\n",
       "      <td>10.0</td>\n",
       "      <td>8.0</td>\n",
       "      <td>6.0</td>\n",
       "    </tr>\n",
       "    <tr>\n",
       "      <th>7</th>\n",
       "      <td>11</td>\n",
       "      <td>1</td>\n",
       "      <td>12.0</td>\n",
       "      <td>9.0</td>\n",
       "      <td>10.0</td>\n",
       "      <td>8.0</td>\n",
       "    </tr>\n",
       "  </tbody>\n",
       "</table>\n",
       "</div>"
      ],
      "text/plain": [
       "    Y  lag_0  lag_1  lag_2  lag_3  lag_4\n",
       "4  10      1    8.0    6.0    7.0    5.0\n",
       "5   9      1   10.0    8.0    6.0    7.0\n",
       "6  12      1    9.0   10.0    8.0    6.0\n",
       "7  11      1   12.0    9.0   10.0    8.0"
      ]
     },
     "execution_count": 32,
     "metadata": {},
     "output_type": "execute_result"
    }
   ],
   "source": [
    "df.dropna(inplace=True)\n",
    "df.head()"
   ]
  },
  {
   "cell_type": "code",
   "execution_count": 33,
   "id": "42925a3d",
   "metadata": {},
   "outputs": [
    {
     "data": {
      "text/plain": [
       "array([[ 1.,  8.,  6.,  7.,  5.],\n",
       "       [ 1., 10.,  8.,  6.,  7.],\n",
       "       [ 1.,  9., 10.,  8.,  6.],\n",
       "       [ 1., 12.,  9., 10.,  8.]])"
      ]
     },
     "execution_count": 33,
     "metadata": {},
     "output_type": "execute_result"
    }
   ],
   "source": [
    "X = df.drop(columns=['Y']).values\n",
    "X"
   ]
  },
  {
   "cell_type": "code",
   "execution_count": 34,
   "id": "63b64a14",
   "metadata": {},
   "outputs": [
    {
     "data": {
      "text/plain": [
       "array([[ 1.,  1.,  1.,  1.],\n",
       "       [ 8., 10.,  9., 12.],\n",
       "       [ 6.,  8., 10.,  9.],\n",
       "       [ 7.,  6.,  8., 10.],\n",
       "       [ 5.,  7.,  6.,  8.]])"
      ]
     },
     "execution_count": 34,
     "metadata": {},
     "output_type": "execute_result"
    }
   ],
   "source": [
    "X.T"
   ]
  },
  {
   "cell_type": "code",
   "execution_count": null,
   "id": "27c0660b",
   "metadata": {},
   "outputs": [
    {
     "data": {
      "text/plain": [
       "array([[10],\n",
       "       [ 9],\n",
       "       [12],\n",
       "       [11]])"
      ]
     },
     "execution_count": 36,
     "metadata": {},
     "output_type": "execute_result"
    }
   ],
   "source": [
    "Y = df['Y'].values.reshape(-1,1) # Filas lo que sea, columnas 1\n",
    "Y"
   ]
  },
  {
   "cell_type": "markdown",
   "id": "098fbdd3",
   "metadata": {},
   "source": [
    "Las dimensiónes de las operaciónes son las siguientes:\n",
    "* X_T = 5 x 4\n",
    "* X = 4 x 5\n",
    "* Y = 4 X 1\n",
    "* X_T * X = (5 x 4)(4 x 5) = 5 x 5\n",
    "* X_T * Y = (5 X 4)(4 X 1) = 5 X 1  \n",
    "* (X_T * X)(X_T * Y ) = (5 x 5)(5 X 1) = 5 X 1\n",
    "\n",
    "ϕ = (X_T*X)**+ (X_T*Y)"
   ]
  },
  {
   "cell_type": "code",
   "execution_count": null,
   "id": "ac918920",
   "metadata": {},
   "outputs": [
    {
     "data": {
      "text/plain": [
       "array([[ 5.04166667],\n",
       "       [ 1.625     ],\n",
       "       [ 0.73611111],\n",
       "       [ 0.19444444],\n",
       "       [-2.76388889]])"
      ]
     },
     "execution_count": 56,
     "metadata": {},
     "output_type": "execute_result"
    }
   ],
   "source": [
    "# Vector de phis ϕ\n",
    "phis = np.linalg.pinv(X.T@X) @ (X.T@Y)\n",
    "phis"
   ]
  },
  {
   "cell_type": "markdown",
   "id": "328a993a",
   "metadata": {},
   "source": [
    "## Ahora usando una librería"
   ]
  },
  {
   "cell_type": "code",
   "execution_count": 58,
   "id": "f9ff71a3",
   "metadata": {},
   "outputs": [
    {
     "data": {
      "text/plain": [
       "array([[ 5.04166667],\n",
       "       [ 1.625     ],\n",
       "       [ 0.73611111],\n",
       "       [ 0.19444444],\n",
       "       [-2.76388889]])"
      ]
     },
     "execution_count": 58,
     "metadata": {},
     "output_type": "execute_result"
    }
   ],
   "source": [
    "from sklearn.linear_model import LinearRegression\n",
    "\n",
    "model = LinearRegression(fit_intercept=False)\n",
    "model.fit(X, Y)\n",
    "phis_sklearn = model.coef_.reshape(-1,1)\n",
    "phis_sklearn"
   ]
  }
 ],
 "metadata": {
  "kernelspec": {
   "display_name": "series",
   "language": "python",
   "name": "python3"
  },
  "language_info": {
   "codemirror_mode": {
    "name": "ipython",
    "version": 3
   },
   "file_extension": ".py",
   "mimetype": "text/x-python",
   "name": "python",
   "nbconvert_exporter": "python",
   "pygments_lexer": "ipython3",
   "version": "3.11.13"
  }
 },
 "nbformat": 4,
 "nbformat_minor": 5
}
