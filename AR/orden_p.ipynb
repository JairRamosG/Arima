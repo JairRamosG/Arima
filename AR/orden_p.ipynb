{
 "cells": [
  {
   "cell_type": "code",
   "execution_count": 42,
   "id": "027e19e7",
   "metadata": {},
   "outputs": [],
   "source": [
    "import pandas as pd\n",
    "import numpy as np\n",
    "import matplotlib.pyplot as plt\n",
    "from statsmodels.graphics.tsaplots import plot_pacf"
   ]
  },
  {
   "cell_type": "markdown",
   "id": "c23aba85",
   "metadata": {},
   "source": [
    "## Estimación de los coeficientes parciales dependiendo del orden p elejido mediante la PACF"
   ]
  },
  {
   "cell_type": "code",
   "execution_count": 37,
   "id": "8474d09a",
   "metadata": {},
   "outputs": [],
   "source": [
    "serie = [4,5,6,8,9,10,13]\n",
    "barrido  = 4\n",
    "coeficientes = []\n",
    "intervalos = []"
   ]
  },
  {
   "cell_type": "code",
   "execution_count": 38,
   "id": "5ba56e54",
   "metadata": {},
   "outputs": [],
   "source": [
    "for i in range(1, barrido+1):\n",
    "    Y = serie[i:]  # representa las Y\n",
    "    y = serie[:-i] # representa las X\n",
    "\n",
    "    Y_mean = np.mean(Y)\n",
    "    y_mean = np.mean(y)\n",
    "\n",
    "    Xi_Xmean = y - y_mean\n",
    "    Yi_Ymean = Y - Y_mean\n",
    "\n",
    "    numerador = np.sum(Xi_Xmean * Yi_Ymean)\n",
    "    denominador = np.sum(Xi_Xmean**2)\n",
    "\n",
    "    phi = numerador / denominador\n",
    "    coeficientes.append(phi)\n",
    "\n",
    "    intervalo = 1.96 / np.sqrt(len(Y))\n",
    "    intervalos.append(intervalo)"
   ]
  },
  {
   "cell_type": "code",
   "execution_count": 39,
   "id": "32a475e8",
   "metadata": {},
   "outputs": [
    {
     "data": {
      "text/html": [
       "<div>\n",
       "<style scoped>\n",
       "    .dataframe tbody tr th:only-of-type {\n",
       "        vertical-align: middle;\n",
       "    }\n",
       "\n",
       "    .dataframe tbody tr th {\n",
       "        vertical-align: top;\n",
       "    }\n",
       "\n",
       "    .dataframe thead th {\n",
       "        text-align: right;\n",
       "    }\n",
       "</style>\n",
       "<table border=\"1\" class=\"dataframe\">\n",
       "  <thead>\n",
       "    <tr style=\"text-align: right;\">\n",
       "      <th></th>\n",
       "      <th>coeficientes</th>\n",
       "      <th>intervalos</th>\n",
       "      <th>ruido</th>\n",
       "    </tr>\n",
       "  </thead>\n",
       "  <tbody>\n",
       "    <tr>\n",
       "      <th>0</th>\n",
       "      <td>1.178571</td>\n",
       "      <td>0.800167</td>\n",
       "      <td>True</td>\n",
       "    </tr>\n",
       "    <tr>\n",
       "      <th>1</th>\n",
       "      <td>1.197674</td>\n",
       "      <td>0.876539</td>\n",
       "      <td>True</td>\n",
       "    </tr>\n",
       "    <tr>\n",
       "      <th>2</th>\n",
       "      <td>1.257143</td>\n",
       "      <td>0.980000</td>\n",
       "      <td>True</td>\n",
       "    </tr>\n",
       "    <tr>\n",
       "      <th>3</th>\n",
       "      <td>2.000000</td>\n",
       "      <td>1.131607</td>\n",
       "      <td>True</td>\n",
       "    </tr>\n",
       "  </tbody>\n",
       "</table>\n",
       "</div>"
      ],
      "text/plain": [
       "   coeficientes  intervalos  ruido\n",
       "0      1.178571    0.800167   True\n",
       "1      1.197674    0.876539   True\n",
       "2      1.257143    0.980000   True\n",
       "3      2.000000    1.131607   True"
      ]
     },
     "execution_count": 39,
     "metadata": {},
     "output_type": "execute_result"
    }
   ],
   "source": [
    "df = pd.DataFrame({\"coeficientes\" : coeficientes,\n",
    "                    \"intervalos\" : intervalos})\n",
    "df[\"ruido\"] = df[\"coeficientes\"] > df[\"intervalos\"]\n",
    "df.head()"
   ]
  },
  {
   "cell_type": "markdown",
   "id": "2dd4c982",
   "metadata": {},
   "source": [
    "## Ahora visualizar la función de PACF con un barrido visual usando una librería"
   ]
  },
  {
   "cell_type": "code",
   "execution_count": 47,
   "id": "51d05aae",
   "metadata": {},
   "outputs": [
    {
     "data": {
      "image/png": "[encoded data removed]",
      "text/plain": [
       "<Figure size 640x480 with 1 Axes>"
      ]
     },
     "metadata": {},
     "output_type": "display_data"
    }
   ],
   "source": [
    "plot_pacf(serie, lags = 3, method = \"ols\", alpha = 0.05)\n",
    "plt.title(\"PACF\")\n",
    "plt.grid(True)\n",
    "plt.show()"
   ]
  }
 ],
 "metadata": {
  "kernelspec": {
   "display_name": "series",
   "language": "python",
   "name": "python3"
  },
  "language_info": {
   "codemirror_mode": {
    "name": "ipython",
    "version": 3
   },
   "file_extension": ".py",
   "mimetype": "text/x-python",
   "name": "python",
   "nbconvert_exporter": "python",
   "pygments_lexer": "ipython3",
   "version": "3.11.13"
  }
 },
 "nbformat": 4,
 "nbformat_minor": 5
}
